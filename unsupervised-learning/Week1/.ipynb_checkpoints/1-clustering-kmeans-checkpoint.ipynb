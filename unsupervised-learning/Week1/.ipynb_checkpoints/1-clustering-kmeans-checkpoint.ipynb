{
 "cells": [
  {
   "cell_type": "markdown",
   "id": "eaefadc2-1bda-4565-836c-24b088a88a77",
   "metadata": {},
   "source": [
    "**Clustering**  \n",
    "\n",
    " - Find structure in unlabelled dataset\n",
    " - Group into clusters\n",
    " - Group of points that are similar to each other\n",
    "\n",
    "Applications to clustering:  \n",
    " - Grouping similar news articles\n",
    " - Market segmentation\n",
    " - DNA analysis\n",
    " - Astronomical data analysis\n",
    "\n",
    "**K-means clustering algorithm**  \n",
    "\n",
    " - Ask it to find two clusters\n",
    " - Randomly guesses two points where the two cluster centroids might be\n",
    " - Go through each of these points and ask if it's closer to one cluster centroid or another\n",
    " - assigns each point to closest centroid\n",
    " - Take average of each clusters points, move centroid to average value\n",
    " - Loop through examples again, re-assign + move centroids\n",
    " - Keep repeating\n",
    " - When no more changes to points cluster and centroid value then converged\n",
    "\n",
    "<u> Details: </u>  \n",
    "\n",
    "Randomly init K cluster centroids:\n",
    " - $\\mu_1, \\mu_2, ..., u_K$\n",
    " - Vectors\n",
    "\n",
    "**repeat{**  \n",
    "Assign points to cluster centroids:  \n",
    "for i =1 to m:  \n",
    " - $c^{(i)}$ = index of cluster centroid closest to $x^{(i)}$\n",
    " - min$(x^{(i)}-\\mu_k)^2$\n",
    "\n",
    "Move cluster centroids  \n",
    "for k=1 to K:\n",
    " - $\\mu_k$ = average (mean) of points assigned to cluster k\n",
    "\n",
    "**}**\n",
    "\n",
    "If centroid has no values assigned to it, common to eliminate it.  \n",
    "Can also re-init cluster centroids + hope it gets assigned if you need K rather than K-1 clusters."
   ]
  },
  {
   "cell_type": "markdown",
   "id": "804e8ddb-730d-4893-a713-0c2e6858a58f",
   "metadata": {},
   "source": [
    "**Optimisation objective**  \n",
    "\n",
    "$c^{(i)}$ = index of cluster to which example $x^{(i)}$ is currently assigned  \n",
    "$\\mu_k$ = cluster centroid k  \n",
    "$\\mu_{c^{(i)}}$ = centroid of cluster where the example $x^{(i)}$  has been assigned  \n",
    "\n",
    "<u> Cost function (Distortion function)_: </u>  \n",
    "\n",
    "$ J(c^{(1)}, ..., c^{(m)}, \\mu_1, ..., \\mu_K) = \\frac{1}{m} \\sum_{i=1}^m || x^{(i)} - \\mu_{c^{(i)}} ||^2 $\n",
    "\n",
    "Average of square distance between every training example and the location of cluster centroid training example has been assigned  \n",
    "Need to minimise this square distance\n",
    "\n",
    "Every single step should go down  \n",
    "If cost stops going down, usually converged  \n",
    "If it goes up - bug  "
   ]
  },
  {
   "cell_type": "code",
   "execution_count": null,
   "id": "5fc7878a-de48-4c92-b96d-78deea8f76bc",
   "metadata": {},
   "outputs": [],
   "source": []
  }
 ],
 "metadata": {
  "kernelspec": {
   "display_name": "Python 3 (ipykernel)",
   "language": "python",
   "name": "python3"
  },
  "language_info": {
   "codemirror_mode": {
    "name": "ipython",
    "version": 3
   },
   "file_extension": ".py",
   "mimetype": "text/x-python",
   "name": "python",
   "nbconvert_exporter": "python",
   "pygments_lexer": "ipython3",
   "version": "3.11.5"
  }
 },
 "nbformat": 4,
 "nbformat_minor": 5
}
