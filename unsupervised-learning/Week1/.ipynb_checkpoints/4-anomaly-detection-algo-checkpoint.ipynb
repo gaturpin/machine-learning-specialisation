{
 "cells": [
  {
   "cell_type": "markdown",
   "id": "85e70a32-5eea-496a-bc09-8a227b714009",
   "metadata": {},
   "source": [
    "**Anomaly detection algorithm**\n",
    "\n",
    " - choose n features xi that you think might be indicative of anomalous examples\n",
    " - fit params mu_1,...,mu_n,sigma_1,...,sigma_n\n",
    " - given new example x, compute p(x)\n",
    " - anomaly if p(x) < epsilon"
   ]
  },
  {
   "cell_type": "markdown",
   "id": "a5f84ee9-43b8-4ad1-a2a5-9f1e84c0ffec",
   "metadata": {},
   "source": [
    "**Importance of real-number evaluation**  \n",
    "\n",
    " - Making decisions easier if we have a way of evaluating learning algo  \n",
    " - Assume we have some labeled data of anomalous (1) and non-anomalous (0)\n",
    " - training set still unlabeled - assume all are not anomalous\n",
    " - cv and test set hopefully include a few anomalous examples\n",
    "\n",
    "Aircraft engines monitoring example: \n",
    " - 10,000 normal engines\n",
    " - 20 flawed engines - anomalous\n",
    " -  Training set: 6000 good engines\n",
    " -  CV set: 2000 good engines, 10 anomalous\n",
    " -  Test set: 2000 good engines, 10 anomalous\n",
    " -  Train algo on training set + fit gaussian to examples\n",
    " -  See how many anomalous engines it flags from the cv set\n",
    " -  Tune epsilon using cv set results - is it reliabilly detecting the 10 anomalous results?\n",
    " -  Tune x_j\n",
    "\n",
    "Alternative if low labeled anomalous examples:  \n",
    " - No test set, just training and cv set\n",
    " - train on 6000 good\n",
    " - cv: 4000 good and 20 anomalous\n",
    " - Tune eps, tune x_j\n",
    " - High risk of overfitting"
   ]
  },
  {
   "cell_type": "markdown",
   "id": "6c0d6d23-695e-47a9-a711-fb13595b1aca",
   "metadata": {},
   "source": [
    "**Algorithm evaluation**  \n",
    " - Fit model p(x) on training set\n",
    " - ON cv/test example x, predict:\n",
    "   - y = 1 if p(x) < eps - anomaly\n",
    "   - y = 0 if p(x) >= eps - normal\n",
    "\n",
    "Possible evaluation metrics: \n",
    " - True positive, false positive, false neg, true neg\n",
    " - Precision/Recall\n",
    " - F1 score\n",
    "\n"
   ]
  },
  {
   "cell_type": "code",
   "execution_count": null,
   "id": "7bd8c116-68e4-4b54-bab1-a778d96a24d6",
   "metadata": {},
   "outputs": [],
   "source": []
  }
 ],
 "metadata": {
  "kernelspec": {
   "display_name": "Python 3 (ipykernel)",
   "language": "python",
   "name": "python3"
  },
  "language_info": {
   "codemirror_mode": {
    "name": "ipython",
    "version": 3
   },
   "file_extension": ".py",
   "mimetype": "text/x-python",
   "name": "python",
   "nbconvert_exporter": "python",
   "pygments_lexer": "ipython3",
   "version": "3.11.5"
  }
 },
 "nbformat": 4,
 "nbformat_minor": 5
}
