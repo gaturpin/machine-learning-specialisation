{
 "cells": [
  {
   "cell_type": "markdown",
   "id": "85e70a32-5eea-496a-bc09-8a227b714009",
   "metadata": {},
   "source": [
    "**Anomaly detection algorithm**\n",
    "\n",
    " - choose n features xi that you think might be indicative of anomalous examples\n",
    " - fit params mu_1,...,mu_n,sigma_1,...,sigma_n\n",
    " - given new example x, compute p(x)\n",
    " - anomaly if p(x) < epsilon"
   ]
  },
  {
   "cell_type": "code",
   "execution_count": null,
   "id": "58666ae7-2ace-441e-9756-df75bf265b0f",
   "metadata": {},
   "outputs": [],
   "source": []
  }
 ],
 "metadata": {
  "kernelspec": {
   "display_name": "Python 3 (ipykernel)",
   "language": "python",
   "name": "python3"
  },
  "language_info": {
   "codemirror_mode": {
    "name": "ipython",
    "version": 3
   },
   "file_extension": ".py",
   "mimetype": "text/x-python",
   "name": "python",
   "nbconvert_exporter": "python",
   "pygments_lexer": "ipython3",
   "version": "3.11.5"
  }
 },
 "nbformat": 4,
 "nbformat_minor": 5
}
