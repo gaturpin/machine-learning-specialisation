{
 "cells": [
  {
   "cell_type": "markdown",
   "id": "10e9d23b-8b36-499d-9ac7-b56a258c8fcc",
   "metadata": {},
   "source": [
    "**Initialising k-means**  \n",
    "\n",
    " - Choose K < m\n",
    " - Randomly pick K training examples + set $\\mu_k$ equal to these K example\n",
    "\n",
    "\n",
    "Might not always pick clusters well:\n",
    " -  Need to run multiple times\n",
    " -  Pick one that gives lowest cost function J"
   ]
  },
  {
   "cell_type": "markdown",
   "id": "c5bfc68a-011d-4947-9f17-2b6e1e70a5e1",
   "metadata": {},
   "source": [
    "for i =1 to 100{  \n",
    "\n",
    "    - randomly init K-means\n",
    "    - Run K-means - get c, mu\n",
    "    - Compute cost function\n",
    "}  \n",
    "\n",
    "Pick set of clusters that give loest cost"
   ]
  },
  {
   "cell_type": "markdown",
   "id": "35d5963d-f91e-46a2-a3a2-af12aca7c12c",
   "metadata": {},
   "source": [
    "**Choosing number of clusters**  \n",
    "\n",
    "<u> Elbow method: </u>  \n",
    " - run k-means with variety of values of K\n",
    " - Plot cost/distoriton function as func of K\n",
    " - cost decreases rapidly with increasing K\n",
    " - pick K where 'elbow' in plot\n",
    " - Not rapidly decreasing after\n",
    "\n",
    "Find a lot decreases smoothly without an obvious elbow  \n",
    "Not a good technique  \n",
    "\n",
    "Better:\n",
    " - Want to get clusters for some later(downstream) purpose\n",
    " - Evaluate K-means based on how well it performs on later purpose\n",
    " - Decide what makes sense for each situation"
   ]
  },
  {
   "cell_type": "code",
   "execution_count": null,
   "id": "dcc359fe-6c40-4190-a491-4a2034a56d1e",
   "metadata": {},
   "outputs": [],
   "source": []
  }
 ],
 "metadata": {
  "kernelspec": {
   "display_name": "Python 3 (ipykernel)",
   "language": "python",
   "name": "python3"
  },
  "language_info": {
   "codemirror_mode": {
    "name": "ipython",
    "version": 3
   },
   "file_extension": ".py",
   "mimetype": "text/x-python",
   "name": "python",
   "nbconvert_exporter": "python",
   "pygments_lexer": "ipython3",
   "version": "3.11.5"
  }
 },
 "nbformat": 4,
 "nbformat_minor": 5
}
