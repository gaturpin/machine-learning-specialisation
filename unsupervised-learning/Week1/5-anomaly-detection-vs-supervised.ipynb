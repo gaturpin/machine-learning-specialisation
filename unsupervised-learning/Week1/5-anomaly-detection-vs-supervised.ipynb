{
 "cells": [
  {
   "cell_type": "markdown",
   "id": "12c13c91-cebf-40df-bc0f-2f908ac7d732",
   "metadata": {},
   "source": [
    "**Anomaly detection**  \n",
    "\n",
    " - Very small number of positive examples (y=1) - 0-20 is common\n",
    " - Large number of negative examples (y=0)\n",
    " - If there are many different types of anomalies\n",
    " - If it's hard for any algo to learn from positive examples of what anomalies look like\n",
    "   - E.g. Future anomalies might look nothing like anomalous examples so far\n",
    "\n",
    "E.g:\n",
    " - Financial fraud:\n",
    "   - Lost of new types of fraud - need to look for new anomalies\n",
    " - Manufacturing:\n",
    "   - Finding any new and unseen defects in manufacturing\n",
    " - Moniotoring machines in a data centre\n",
    "\n",
    "**Supervised learning**  \n",
    " - Large number of positive and negative examples\n",
    " - Enough positive examples for algo to sense what positive examples are like\n",
    " - Future positive examples similar to training set\n",
    "\n",
    "E.g:\n",
    " - Spam emails\n",
    "   - Much more likely to be similar\n",
    "   - Getting user to go to website etc.\n",
    " - Manufacturing:\n",
    "   - Finding known defects - scratches etc.\n",
    " - Weather predictions\n",
    " - Disease classifcation"
   ]
  },
  {
   "cell_type": "code",
   "execution_count": null,
   "id": "96b63e60-36f6-4aff-a002-3735ec021a89",
   "metadata": {},
   "outputs": [],
   "source": []
  }
 ],
 "metadata": {
  "kernelspec": {
   "display_name": "Python 3 (ipykernel)",
   "language": "python",
   "name": "python3"
  },
  "language_info": {
   "codemirror_mode": {
    "name": "ipython",
    "version": 3
   },
   "file_extension": ".py",
   "mimetype": "text/x-python",
   "name": "python",
   "nbconvert_exporter": "python",
   "pygments_lexer": "ipython3",
   "version": "3.11.5"
  }
 },
 "nbformat": 4,
 "nbformat_minor": 5
}
