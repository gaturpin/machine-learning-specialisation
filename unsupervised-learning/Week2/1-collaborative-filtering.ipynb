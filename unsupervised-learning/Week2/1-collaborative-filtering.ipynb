{
 "cells": [
  {
   "cell_type": "markdown",
   "id": "de07184b-84d6-40b9-9b68-6fdcac2c5cd9",
   "metadata": {},
   "source": [
    "**Making recommendations**\n",
    "\n",
    "<u> Predicting moving ratings: </u>\n",
    " - Users rate movies from 0 to 5 stars\n",
    " - $n_u$ - no. of users\n",
    " - $n_m$ - no. of movies\n",
    " - r(i,j)=1 if user j has rated movie i\n",
    " - $y^{(i,j)}$ = rating given by user j to movie i - only if r(i,j) = 1\n",
    " - n = no. of features - e.g. movie type/category\n",
    " - $x^{(i)}$ - feature vector for movie i\n",
    "\n",
    "Can predict movie rating for a move i as: \n",
    " - $w \\cdot x^{(i)} + b$  \n",
    " - just linear regression\n",
    "\n",
    "**Cost Function**  \n",
    "\n",
    "To learn params w, b for user j, need to minimise cost function for user j: \n",
    "\n",
    " $$ J(w^{(j)}, b^{(j)}) =  \\frac{1}{2m^{(j)}} \\sum_{i:r(i,j)=1} (w^{(j)} \\cdot x^{(i)} + b^{(j)} - y^{(i,j)})^2 + \\frac{\\lambda}{2m^{(j)}} \\sum_{k=1}^{n}(w^{(j)}_{k})^2$$  \n",
    "\n",
    "\n",
    "\n",
    "To learn params for all users:\n",
    "\n",
    "$$ \\frac{1}{2} \\sum_{j=1}^{n_u}  \\sum_{i:r(i,j)=1} (w^{(j)} \\cdot x^{(i)} + b^{(j)} - y^{(i,j)})^2 + \\frac{\\lambda}{2} \\sum_{k=1}^{n}(w^{(j)}_{k})^2 $$  \n",
    "\n",
    "don't need the m because it scales out"
   ]
  },
  {
   "cell_type": "markdown",
   "id": "d8c0a639-9cb3-4c5b-8902-5b0de3e30f91",
   "metadata": {},
   "source": [
    "**Collaborative Filtering Algorithm**  \n",
    "\n",
    "What if we don't know features x1 and x2 - e.g. type of film scale (romance / action)  \n",
    "\n",
    "To learn $x^{(i)}$ for a movie given w and b, minimise cost function:\n",
    "\n",
    "$$ J(x^{(i)}) = \\frac{1}{2} \\sum_{j:r(i,j)=1} (w^{(j)} \\cdot x^{(i)} + b^{(j)} - y^{(i,j)})^2 + \\frac{\\lambda}{2} \\sum_{k=1}^{n}(w^{(j)}_{k})^2  $$\n",
    "\n",
    "to learn:\n",
    "\n",
    "$$ J(x^{(1)},..., x^{(m)}) = \\frac{1}{2} \\sum_{i=1}^{n_m} \\sum_{j:r(i,j)=1} (w^{(j)} \\cdot x^{(i)} + b^{(j)} - y^{(i,j)})^2 + \\frac{\\lambda}{2} \\sum_{k=1}^{n}(w^{(j)}_{k})^2  $$\n"
   ]
  },
  {
   "cell_type": "markdown",
   "id": "5a0fe38d-c546-4c74-8368-85082afea13e",
   "metadata": {},
   "source": [
    "Comparing the two (calculating w,b and x) - have the same sum term  \n",
    "So we can put them together: \n",
    "\n",
    "$$  \\frac{1}{2} \\sum_{i=1}^{n_m} \\sum_{(i,j):r(i,j)=1} (w^{(j)} \\cdot x^{(i)} + b^{(j)} - y^{(i,j)})^2 + \\frac{\\lambda}{2} \\sum_{j=1}^{n_u}\\sum_{k=1}^{n}(w^{(j)}_{k})^2 + \\frac{\\lambda}{2} \\sum_{j=1}^{n_m}\\sum_{k=1}^{n}(x^{(i)}_{k})^2  $$  "
   ]
  },
  {
   "cell_type": "markdown",
   "id": "c653a53b-a146-472f-a546-35ba878519cd",
   "metadata": {},
   "source": [
    "**Gradient Descent**  \n",
    "\n",
    "Cost function now a function of w,b and x  \n",
    "So also need to update x: \n",
    " - $x^{(i)}_k = x^{(i)}_k - \\alpha \\frac{\\partial}{\\partial x^{(i)}_k} J(w,b,x)$\n",
    "\n",
    "Minimise cost function as a function of all 3 of w,b and x"
   ]
  },
  {
   "cell_type": "markdown",
   "id": "f60308ba-5406-4103-a5d4-8fc0b7a37472",
   "metadata": {},
   "source": [
    "**Binary labels**  \n",
    "\n",
    "Same as linear to logistic regression\n",
    " - atm predict y as wx + b\n",
    " - Now predict as g(wx+b)\n",
    " - g = sigmoid\n",
    "\n",
    "Loss: \n",
    "$$ L(f_{(w,b,x)}(x), y^{(i,j)}) = - y^{(i,j)} log(f_{(w,b,x)}(x)) - (1-y^{(i,j)}) log(1-f_{(w,b,x)}(x)) $$\n",
    "\n",
    "Cost function:\n",
    "\n",
    "$$ J(w,b,x) = \\sum_{(i,j):r(i,j) = 1} L(f_{(w,b,x)}(x), y^{(i,j)})$$"
   ]
  },
  {
   "cell_type": "code",
   "execution_count": null,
   "id": "38a3405f-5b7b-4d30-ac5c-0b9032a90f36",
   "metadata": {},
   "outputs": [],
   "source": []
  }
 ],
 "metadata": {
  "kernelspec": {
   "display_name": "Python 3 (ipykernel)",
   "language": "python",
   "name": "python3"
  },
  "language_info": {
   "codemirror_mode": {
    "name": "ipython",
    "version": 3
   },
   "file_extension": ".py",
   "mimetype": "text/x-python",
   "name": "python",
   "nbconvert_exporter": "python",
   "pygments_lexer": "ipython3",
   "version": "3.11.5"
  }
 },
 "nbformat": 4,
 "nbformat_minor": 5
}
